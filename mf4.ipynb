{
 "cells": [
  {
   "cell_type": "code",
   "execution_count": null,
   "metadata": {},
   "outputs": [],
   "source": [
    "from javascript import require, On, Once, AsyncTask, once, off, globalThis\n",
    "\n",
    "# Create the bot\n",
    "mineflayer = require('mineflayer')\n",
    "mc = require('minecraft-protocol')\n",
    "forgeHandshake = require('minecraft-protocol-forge').forgeHandshake\n",
    "\n",
    "random_number = id([]) % 1000\n",
    "BOT_USERNAME = f'poo_bucket{random_number}'\n",
    "\n",
    "bot = "
   ]
  }
 ],
 "metadata": {
  "language_info": {
   "name": "python"
  }
 },
 "nbformat": 4,
 "nbformat_minor": 2
}
