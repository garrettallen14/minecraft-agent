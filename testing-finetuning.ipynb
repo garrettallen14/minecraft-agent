{
 "cells": [
  {
   "cell_type": "code",
   "execution_count": 1,
   "metadata": {},
   "outputs": [
    {
     "data": {
      "application/vnd.jupyter.widget-view+json": {
       "model_id": "e57f6dac010e45ca844b3953f91d55f5",
       "version_major": 2,
       "version_minor": 0
      },
      "text/plain": [
       "VBox(children=(HTML(value='<center> <img\\nsrc=https://huggingface.co/front/assets/huggingface_logo-noborder.sv…"
      ]
     },
     "metadata": {},
     "output_type": "display_data"
    }
   ],
   "source": [
    "# Load necessary packages\n",
    "import torch\n",
    "from tqdm import tqdm\n",
    "from calculate_topk import generate_branching_responses, print_responses\n",
    "from huggingface_hub import notebook_login\n",
    "from trl import SFTTrainer\n",
    "from transformers import (\n",
    "    AutoModelForCausalLM,\n",
    "    AutoTokenizer,\n",
    "    BitsAndBytesConfig,\n",
    "    TrainingArguments,\n",
    "    DataCollatorForLanguageModeling,\n",
    "    BitsAndBytesConfig\n",
    ")\n",
    "notebook_login()"
   ]
  },
  {
   "cell_type": "code",
   "execution_count": 2,
   "metadata": {},
   "outputs": [],
   "source": [
    "from javascript import require, On, Once, AsyncTask, once, off, globalThis\n",
    "import json\n",
    "import logging\n",
    "import time\n",
    "import vision\n",
    "\n",
    "import building\n",
    "\n",
    "MINECRAFT_VERSION = '1.20.2'\n",
    "\n",
    "craft = require('./control_primitives/craftItem.js')\n",
    "globalThis.craft = craft\n",
    "explore = require('./control_primitives/exploreUntil.js')\n",
    "globalThis.explore = explore\n",
    "move = require('./control_primitives/goToPosition.js')\n",
    "globalThis.move = move\n",
    "kill = require('./control_primitives/killMob.js')\n",
    "globalThis.kill = kill\n",
    "collectPosition = require('./control_primitives/mineBlockPosition.js')\n",
    "globalThis.collectPosition = collectPosition\n",
    "collectType = require('./control_primitives/mineBlockType.js')\n",
    "globalThis.collectType = collectType\n",
    "pickupDroppedItem = require('./control_primitives/pickupDroppedItem.js')\n",
    "globalThis.pickupDroppedItem = pickupDroppedItem\n",
    "place = require('./control_primitives/placeItem.js')\n",
    "globalThis.place = place\n",
    "shoot = require('./control_primitives/shoot.js')\n",
    "globalThis.shoot = shoot\n",
    "smelt = require('./control_primitives/smeltItem.js')\n",
    "globalThis.smelt = smelt\n",
    "chest = require('./control_primitives/useChest.js')\n",
    "globalThis.chest = chest\n",
    "\n",
    "Vec3 = require('vec3').Vec3\n",
    "globalThis.Vec3 = Vec3\n",
    "mineflayer = require('mineflayer')\n",
    "globalThis.mineflayer = mineflayer\n",
    "pathfinder = require('mineflayer-pathfinder')\n",
    "globalThis.pathfinder = pathfinder\n",
    "pvp = require('mineflayer-pvp').plugin\n",
    "globalThis.pvp = pvp\n",
    "mcData = require('minecraft-data')(MINECRAFT_VERSION)\n",
    "globalThis.mcData = mcData\n",
    "armorManager = require(\"mineflayer-armor-manager\")\n",
    "globalThis.armorManager = armorManager\n",
    "autoeat = require('mineflayer-auto-eat').plugin\n",
    "globalThis.autoeat = autoeat\n",
    "collectblock = require('mineflayer-collectblock').plugin\n",
    "globalThis.collectblock = collectblock\n",
    "hawkeye = require('minecrafthawkeye')\n",
    "globalThis.hawkeye = hawkeye\n",
    "toolPlugin = require('mineflayer-tool').plugin\n",
    "globalThis.toolPlugin = toolPlugin\n",
    "# mineflayerViewer = require('prismarine-viewer')\n",
    "\n",
    "RANGE_GOAL = 1\n",
    "\n",
    "# Fixing some crafting recipes involving planks\n",
    "all_planks = [name for name in mcData.blocksByName if 'planks' in name]\n",
    "crafting_table_list = []\n",
    "bookshelves_list = []\n",
    "\n",
    "stick_list = [] # [{ 'inShape': [int(mcData.itemsByName['bamboo']['id']), int(mcData.itemsByName['bamboo']['id'])], 'result': { 'id': 807, 'count': 1 } }]\n",
    "\n",
    "shield_list = []\n",
    "wood_sword_list = []\n",
    "wood_pickaxe_list = []\n",
    "wood_axe_list = []\n",
    "wood_shovel_list = []\n",
    "wood_hoe_list = []\n",
    "\n",
    "for name in all_planks:\n",
    "    crafting_table_list.append({ 'inShape': [[int(mcData.itemsByName[name]['id']), int(mcData.itemsByName[name]['id'])], [int(mcData.itemsByName[name]['id']), int(mcData.itemsByName[name]['id'])]], 'result': { 'id': 278, 'count': 1 } })\n",
    "    bookshelves_list.append({ 'inShape': [[int(mcData.itemsByName[name]['id']), int(mcData.itemsByName[name]['id']), int(mcData.itemsByName[name]['id'])], [int(mcData.itemsByName['book']['id']), int(mcData.itemsByName['book']['id']), int(mcData.itemsByName['book']['id'])], [int(mcData.itemsByName[name]['id']), int(mcData.itemsByName[name]['id']), int(mcData.itemsByName[name]['id'])]], 'result': { 'id': 264, 'count': 1 } })\n",
    "    \n",
    "    stick_list.append({ 'inShape': [[int(mcData.itemsByName[name]['id'])], [int(mcData.itemsByName[name]['id'])]], 'result': { 'id': 807, 'count': 4 } })\n",
    "    \n",
    "    shield_list.append({ 'inShape': [[int(mcData.itemsByName[name]['id']), int(mcData.itemsByName['iron_ingot']['id']), int(mcData.itemsByName[name]['id'])], [int(mcData.itemsByName[name]['id']), int(mcData.itemsByName[name]['id']), int(mcData.itemsByName[name]['id'])], [None, int(mcData.itemsByName[name]['id']), None]], 'result': { 'id': 1116, 'count': 1 } })\n",
    "    wood_sword_list.append({ 'inShape': [[int(mcData.itemsByName[name]['id'])], [int(mcData.itemsByName[name]['id'])], [int(mcData.itemsByName['stick']['id'])]], 'result': { 'id': 777, 'count': 1 } })\n",
    "    wood_pickaxe_list.append({ 'inShape': [[int(mcData.itemsByName[name]['id']), int(mcData.itemsByName[name]['id']), int(mcData.itemsByName[name]['id'])], [None, int(mcData.itemsByName['stick']['id']), None], [None, int(mcData.itemsByName['stick']['id']), None]], 'result': { 'id': 779, 'count': 1 } })\n",
    "    wood_axe_list.append({ 'inShape': [[int(mcData.itemsByName[name]['id']), int(mcData.itemsByName[name]['id'])], [int(mcData.itemsByName[name]['id']), int(mcData.itemsByName['stick']['id'])], [None, int(mcData.itemsByName['stick']['id'])]], 'result': { 'id': 780, 'count': 1 } })\n",
    "    wood_shovel_list.append({ 'inShape': [[int(mcData.itemsByName[name]['id'])], [int(mcData.itemsByName['stick']['id'])], [int(mcData.itemsByName['stick']['id'])]], 'result': { 'id': 778, 'count': 1 } })\n",
    "    wood_hoe_list.append({ 'inShape': [[int(mcData.itemsByName[name]['id']), int(mcData.itemsByName[name]['id'])], [None, int(mcData.itemsByName['stick']['id'])], [None, int(mcData.itemsByName['stick']['id'])]], 'result': { 'id': 781, 'count': 1 } })\n",
    "\n",
    "mcData.recipes[mcData.itemsByName['crafting_table']['id']] = crafting_table_list\n",
    "mcData.recipes[mcData.itemsByName['bookshelf']['id']] = bookshelves_list\n",
    "mcData.recipes[mcData.itemsByName['stick']['id']] = stick_list\n",
    "mcData.recipes[mcData.itemsByName['shield']['id']] = shield_list\n",
    "mcData.recipes[mcData.itemsByName['wooden_sword']['id']] = wood_sword_list\n",
    "mcData.recipes[mcData.itemsByName['wooden_pickaxe']['id']] = wood_pickaxe_list\n",
    "mcData.recipes[mcData.itemsByName['wooden_axe']['id']] = wood_axe_list\n",
    "mcData.recipes[mcData.itemsByName['wooden_shovel']['id']] = wood_shovel_list\n",
    "mcData.recipes[mcData.itemsByName['wooden_hoe']['id']] = wood_hoe_list\n",
    "\n",
    "\n",
    "\n",
    "# Load bot\n",
    "def load_bot(username=None):\n",
    "  # Create bot\n",
    "  if not username:\n",
    "    random_number = 176\n",
    "    username = f'poo_bucket{random_number}'\n",
    "\n",
    "  bot = mineflayer.createBot({ \n",
    "      'host': 'localhost',\n",
    "      'port': 22222,\n",
    "      'username': username, \n",
    "      'hideErrors': False \n",
    "  })\n",
    "\n",
    "  once(bot, 'login')\n",
    "  bot.chat('I spawned')\n",
    "  #   mineflayerViewer(bot, { 'port': 3000, 'firstPerson': True })\n",
    "\n",
    "  # Load plugins\n",
    "  bot.loadPlugin(collectblock)\n",
    "  bot.loadPlugin(hawkeye)\n",
    "  bot.loadPlugin(pathfinder.pathfinder)\n",
    "  bot.loadPlugin(pvp)\n",
    "  bot.loadPlugin(toolPlugin)\n",
    "\n",
    "  globalThis.mcData = mcData\n",
    "  globalThis.pathfinder = pathfinder\n",
    "  movements = pathfinder.Movements(bot, mcData)\n",
    "  bot.pathfinder.setMovements(movements)\n",
    "\n",
    "  # Auto armor\n",
    "  bot.loadPlugin(armorManager)\n",
    "  bot.armorManager.equipAll()\n",
    "\n",
    "  # Auto eat\n",
    "  bot.loadPlugin(autoeat)\n",
    "  bot.autoEat.options.priority = 'foodPoints'\n",
    "  bot.autoEat.options.startAt = 14\n",
    "  bot.autoEat.options.bannedFood.push('golden_apple')\n",
    "\n",
    "  bot.pathfinder.thinkTimeout = 5000\n",
    "\n",
    "  \n",
    "  return bot, movements"
   ]
  },
  {
   "cell_type": "code",
   "execution_count": 6,
   "metadata": {},
   "outputs": [],
   "source": [
    "bot, movements = load_bot('poo_bucket176')\n",
    "globalThis.bot = bot"
   ]
  },
  {
   "cell_type": "code",
   "execution_count": 7,
   "metadata": {},
   "outputs": [],
   "source": [
    "import env_info\n",
    "environment = env_info.getPromptInfo(bot)"
   ]
  },
  {
   "cell_type": "code",
   "execution_count": 4,
   "metadata": {},
   "outputs": [
    {
     "name": "stdout",
     "output_type": "stream",
     "text": [
      "bin c:\\Users\\garre\\Documents\\GitHub\\minecraft-agent\\venv\\Lib\\site-packages\\bitsandbytes\\libbitsandbytes_cuda121.dll\n"
     ]
    },
    {
     "data": {
      "application/vnd.jupyter.widget-view+json": {
       "model_id": "2d79b04122c7446eb0b38b11ca0073ab",
       "version_major": 2,
       "version_minor": 0
      },
      "text/plain": [
       "Loading checkpoint shards:   0%|          | 0/2 [00:00<?, ?it/s]"
      ]
     },
     "metadata": {},
     "output_type": "display_data"
    },
    {
     "name": "stderr",
     "output_type": "stream",
     "text": [
      "You are calling `save_pretrained` to a 4-bit converted model, but your `bitsandbytes` version doesn't support it. If you want to save 4-bit models, make sure to have `bitsandbytes>=0.41.3` installed.\n"
     ]
    }
   ],
   "source": [
    "# Configure the model to use 4-bit quantization\n",
    "config = BitsAndBytesConfig(\n",
    "    load_in_4bit=True,\n",
    "    bnb_4bit_quant_type=\"nf4\",\n",
    "    bnb_4bit_use_double_quant=True,\n",
    "    bnb_4bit_compute_dtype=torch.bfloat16,\n",
    ")\n",
    "\n",
    "# Load the model and tokenizer\n",
    "tokenizer = AutoTokenizer.from_pretrained(\"google/gemma-2b-it\")\n",
    "model = AutoModelForCausalLM.from_pretrained(\"google/gemma-2b-it\", device_map=\"auto\", quantization_config=config)"
   ]
  },
  {
   "cell_type": "code",
   "execution_count": 8,
   "metadata": {},
   "outputs": [
    {
     "name": "stdout",
     "output_type": "stream",
     "text": [
      "{'world_info': {'time': 'It is currently 5998 in the Morning', 'weather': 'It is clear.', 'biome': 'Old Growth Birch Forest'}, 'environment_info': {'mobs': ['sheep is 14 blocks away.'], 'droppedItems': [], 'players': [], 'beds': [], 'chests': []}, 'player_state': {'position': 'Vec3(-78.34306842829018, 71, -4.500335006846927)', 'pitch': 1.3315847535722014e-08, 'yaw': 1.5707960604787876, 'health': 20, 'hunger': 20, 'heldItem': 'Iron Axe', 'inventory': ['Iron Axe x1', 'Oak Log x3']}, 'recent_chat_messages': []}... Previous Task: 'Gather Wood'. What should my next task be?\n"
     ]
    }
   ],
   "source": [
    "input_text = f\"{environment}... Previous Task: 'Gather Wood'. What should my next task be?\"\n",
    "print(input_text)"
   ]
  },
  {
   "cell_type": "code",
   "execution_count": 12,
   "metadata": {},
   "outputs": [],
   "source": [
    "modules = json.loads(open('modules.json').read())"
   ]
  },
  {
   "cell_type": "code",
   "execution_count": 13,
   "metadata": {},
   "outputs": [
    {
     "name": "stderr",
     "output_type": "stream",
     "text": [
      "100%|██████████| 2/2 [00:51<00:00, 25.92s/it]"
     ]
    },
    {
     "name": "stdout",
     "output_type": "stream",
     "text": [
      "Response 1 (Avg. Confidence: 0.7481): \n",
      "The provided context does not specify which module should be called or how to call it. Therefore, I cannot answer this question from the provided context.\n",
      "\n",
      "Response 2 (Avg. Confidence: 0.7207): \n",
      "\n",
      "The provided context does not specify which module should be called or how to call it. Therefore, I cannot answer this question from the provided context.\n",
      "\n"
     ]
    },
    {
     "name": "stderr",
     "output_type": "stream",
     "text": [
      "\n"
     ]
    }
   ],
   "source": [
    "input_text = f\"ENVIRONMENT: {environment} MODULES: {modules}... Current Goal: \"\n",
    "\n",
    "r, p = generate_branching_responses(model, tokenizer, prompt=input_text, num_branches=2, max_length=150)\n",
    "print_responses(r, p, input_text=input_text)"
   ]
  },
  {
   "cell_type": "code",
   "execution_count": 11,
   "metadata": {},
   "outputs": [],
   "source": []
  },
  {
   "cell_type": "code",
   "execution_count": null,
   "metadata": {},
   "outputs": [],
   "source": [
    "from dataset import Dataset\n",
    "ds = Dataset.from_dict({\"text\": observations})\n",
    "ds"
   ]
  },
  {
   "cell_type": "code",
   "execution_count": null,
   "metadata": {},
   "outputs": [],
   "source": [
    "from peft import LoraConfig, get_peft_model\n",
    "\n",
    "peft_config = LoraConfig(\n",
    "    lora_alpha=16,\n",
    "    lora_dropout=0.15,\n",
    "    r=64,\n",
    "    bias=\"none\",\n",
    "    task_type=\"CAUSAL_LM\",\n",
    "    target_modules=['q_proj', 'k_proj', 'v_proj', 'o_proj']\n",
    ")\n",
    "\n",
    "lora_model = get_peft_model(model, peft_config)\n",
    "tokenizer.padding_side = 'right'\n",
    "lora_model.print_trainable_parameters()"
   ]
  },
  {
   "cell_type": "code",
   "execution_count": null,
   "metadata": {},
   "outputs": [],
   "source": [
    "training_arguments = TrainingArguments(\n",
    "    output_dir=\"gemma-2b-SH-it-pecey-fan\",\n",
    "    per_device_train_batch_size=4,\n",
    "    gradient_accumulation_steps=1,\n",
    "    learning_rate=2e-4,\n",
    "    lr_scheduler_type=\"cosine\",\n",
    "    save_strategy=\"epoch\",\n",
    "    logging_steps=1,\n",
    "    num_train_epochs=3,\n",
    "    push_to_hub=False\n",
    ")"
   ]
  },
  {
   "cell_type": "code",
   "execution_count": null,
   "metadata": {},
   "outputs": [],
   "source": [
    "trainer = SFTTrainer(\n",
    "    model=lora_model,\n",
    "    train_dataset=ds,\n",
    "    peft_config=peft_config,\n",
    "    dataset_text_field=\"text\",\n",
    "    tokenizer=tokenizer,\n",
    "    args=training_arguments,\n",
    ")"
   ]
  }
 ],
 "metadata": {
  "kernelspec": {
   "display_name": "venv",
   "language": "python",
   "name": "python3"
  },
  "language_info": {
   "codemirror_mode": {
    "name": "ipython",
    "version": 3
   },
   "file_extension": ".py",
   "mimetype": "text/x-python",
   "name": "python",
   "nbconvert_exporter": "python",
   "pygments_lexer": "ipython3",
   "version": "3.11.5"
  }
 },
 "nbformat": 4,
 "nbformat_minor": 2
}
