{
 "cells": [
  {
   "cell_type": "code",
   "execution_count": 1,
   "metadata": {},
   "outputs": [
    {
     "name": "stdout",
     "output_type": "stream",
     "text": [
      "[JSE] Mineflayer detected that you are using a deprecated event (physicTick)! Please use this event (physicsTick) instead.\n",
      "\n"
     ]
    }
   ],
   "source": [
    "from javascript import require, On, Once, AsyncTask, once, off, globalThis\n",
    "import time\n",
    "\n",
    "# Create the bot\n",
    "mineflayer = require('mineflayer')\n",
    "\n",
    "random_number = id([]) % 1000\n",
    "BOT_USERNAME = f'poo_bucket{random_number}'\n",
    "\n",
    "bot = mineflayer.createBot({ \n",
    "    'host': 'localhost',\n",
    "    'port': 22222,\n",
    "    'username': BOT_USERNAME, \n",
    "    'hideErrors': False \n",
    "})\n",
    "\n",
    "once(bot, 'login')\n",
    "bot.chat('I spawned')\n",
    "\n",
    "Vec3 = require('vec3').Vec3\n",
    "\n",
    "# Load plugins\n",
    "bot.loadPlugin(require('mineflayer-collectblock').plugin)\n",
    "\n",
    "bot.loadPlugin(require('minecrafthawkeye'))\n",
    "\n",
    "pathfinder = require('mineflayer-pathfinder')\n",
    "bot.loadPlugin(pathfinder.pathfinder)\n",
    "\n",
    "pvp = require('mineflayer-pvp').plugin\n",
    "bot.loadPlugin(pvp)\n",
    "\n",
    "mcData = require('minecraft-data')(bot.version)\n",
    "globalThis.mcData = mcData\n",
    "\n",
    "movements = pathfinder.Movements(bot, mcData)\n",
    "bot.pathfinder.setMovements(movements)\n",
    "globalThis.pathfinder = pathfinder\n",
    "\n",
    "# Global range goal for movement\n",
    "RANGE_GOAL = 1\n",
    "\n",
    "bot.removeAllListeners('chat')\n",
    "@On(bot, 'chat')\n",
    "def handleMsg(this, sender, message, *args):\n",
    "  if sender and (sender != BOT_USERNAME):\n",
    "    bot.chat('Hi, you said ' + message)\n",
    "    if 'come' in message:\n",
    "      player = bot.players[sender]\n",
    "      target = player.entity\n",
    "      if not target:\n",
    "        bot.chat(\"I don't see you !\")\n",
    "        return\n",
    "      pos = target.position\n",
    "      bot.pathfinder.setMovements(movements)\n",
    "      bot.pathfinder.setGoal(pathfinder.goals.GoalNear(pos.x, pos.y, pos.z, RANGE_GOAL))\n",
    "    if 'stop' in message:\n",
    "      off(bot, 'chat', handleMsg)"
   ]
  },
  {
   "cell_type": "code",
   "execution_count": 2,
   "metadata": {},
   "outputs": [
    {
     "data": {
      "text/plain": [
       "[AsyncFunction: placeBlock]"
      ]
     },
     "execution_count": 2,
     "metadata": {},
     "output_type": "execute_result"
    }
   ],
   "source": [
    "bot.placeBlock"
   ]
  },
  {
   "cell_type": "code",
   "execution_count": 3,
   "metadata": {},
   "outputs": [
    {
     "name": "stdout",
     "output_type": "stream",
     "text": [
      "[JSE] Mineflayer detected that you are using a deprecated event (physicTick)! Please use this event (physicsTick) instead.\n",
      "\n"
     ]
    }
   ],
   "source": [
    "mblock = require('./control_primitives/mineBlock.js')\n",
    "mblock.mineBlock(bot, 'dirt', 1, timeout=5000)"
   ]
  },
  {
   "cell_type": "code",
   "execution_count": 4,
   "metadata": {},
   "outputs": [
    {
     "name": "stdout",
     "output_type": "stream",
     "text": [
      "{ \u001b[94mid\u001b[39m: \u001b[33m15\u001b[39m, \u001b[94mname\u001b[39m: \u001b[32m'dirt'\u001b[39m, \u001b[94mdisplayName\u001b[39m: \u001b[32m'Dirt'\u001b[39m, \u001b[94mstackSize\u001b[39m: \u001b[33m64\u001b[39m }\n",
      "\n",
      "Vec3 { \u001b[94mx\u001b[39m: \u001b[33m17.563921057800393\u001b[39m, \u001b[94my\u001b[39m: \u001b[33m69\u001b[39m, \u001b[94mz\u001b[39m: \u001b[33m-53.51182544587126\u001b[39m }\n",
      "\n"
     ]
    }
   ],
   "source": [
    "place = require('./control_primitives/placeItem.js')\n",
    "place.placeItem(bot, 'dirt', Vec3(bot.entity.position.x, bot.entity.position.y+1, bot.entity.position.z), timeout=5000)"
   ]
  },
  {
   "cell_type": "code",
   "execution_count": null,
   "metadata": {},
   "outputs": [],
   "source": []
  },
  {
   "cell_type": "code",
   "execution_count": 2,
   "metadata": {},
   "outputs": [],
   "source": [
    "craft = require('./control_primitives/craftItem.js')\n",
    "craft.craftItem(bot, 'oak_planks', 1, timeout=5000)"
   ]
  },
  {
   "cell_type": "code",
   "execution_count": 3,
   "metadata": {},
   "outputs": [],
   "source": [
    "craft = require('./control_primitives/craftItem.js')\n",
    "craft.craftItem(bot, 'crafting_table', 1, timeout=5000)"
   ]
  },
  {
   "cell_type": "code",
   "execution_count": 4,
   "metadata": {},
   "outputs": [
    {
     "name": "stdout",
     "output_type": "stream",
     "text": [
      "Vec3 { \u001b[94mx\u001b[39m: \u001b[90mundefined\u001b[39m, \u001b[94my\u001b[39m: \u001b[90mundefined\u001b[39m, \u001b[94mz\u001b[39m: \u001b[90mundefined\u001b[39m }\n",
      "\n",
      "☕ \u001b[1m\u001b[41m JavaScript Error \u001b[0m\u001b[0m Call to 'placeItem' failed:\n",
      "\u001b[2m>\u001b[0m place.placeItem\u001b[91m(\u001b[0mbot, \u001b[94m'\u001b[0mcrafting_table\u001b[94m'\u001b[0m, 1, bot.entity.position, timeout\u001b[91m=\u001b[0m5000\u001b[91m)\u001b[0m\n",
      "  \u001b[2mat <module> (C:\\Users\\g-pc\\AppData\\Local\\Temp\\ipykernel_8228\\1800787311.py:2)\u001b[0m\n",
      "\u001b[2m>\u001b[0m \n",
      "\n",
      "... across the bridge ...\n",
      "\n",
      "  \u001b[2mat Pipe.onStreamRead (node:internal/stream_base_commons:190:23)\u001b[0m\n",
      "  \u001b[2mat Readable.push (node:internal/streams/readable:390:5)\u001b[0m\n",
      "  \u001b[2mat readableAddChunkPushByteMode (node:internal/streams/readable:510:3)\u001b[0m\n",
      "  \u001b[2mat addChunk (node:internal/streams/readable:559:12)\u001b[0m\n",
      "  \u001b[2mat Socket.emit (node:events:518:28)\u001b[0m\n",
      "  \u001b[2mat Socket.<anonymous> (c:\\Users\\g-pc\\AppData\\Local\\Programs\\Python\\Python310\\lib\\site-packages\\javascript\\js\\bridge.js:288:18)\u001b[0m\n",
      "  \u001b[2mat Bridge.onMessage (c:\\Users\\g-pc\\AppData\\Local\\Programs\\Python\\Python310\\lib\\site-packages\\javascript\\js\\bridge.js:231:25)\u001b[0m\n",
      "  \u001b[2mat Bridge.call (c:\\Users\\g-pc\\AppData\\Local\\Programs\\Python\\Python310\\lib\\site-packages\\javascript\\js\\bridge.js:136:42)\u001b[0m\n",
      "  \u001b[2mat Object.placeItem (c:\\Users\\g-pc\\Documents\\GitHub\\blank_workspace\\control_primitives\\placeItem.js:43:50)\u001b[0m\n",
      "\u001b[2m>\u001b[0m bot.chat\u001b[91m(\u001b[0m`Placing $\u001b[94m{\u001b[0mname\u001b[94m}\u001b[0m on $\u001b[94m{\u001b[0mblock.name\u001b[94m}\u001b[0m at $\u001b[94m{\u001b[0mblock.position\u001b[94m}\u001b[0m`\u001b[91m)\u001b[0m;\n",
      "🌉 \u001b[1mTypeError: Cannot read properties of null (reading 'name')\u001b[0m\n"
     ]
    }
   ],
   "source": [
    "place = require('./control_primitives/placeItem.js')\n",
    "place.placeItem(bot, 'crafting_table', 1, bot.entity.position, timeout=5000)"
   ]
  },
  {
   "cell_type": "code",
   "execution_count": null,
   "metadata": {},
   "outputs": [
    {
     "name": "stdout",
     "output_type": "stream",
     "text": [
      "23.5=\n"
     ]
    }
   ],
   "source": [
    "print(f'{bot.entity.position.x}=')"
   ]
  },
  {
   "cell_type": "code",
   "execution_count": null,
   "metadata": {},
   "outputs": [],
   "source": [
    "async def check_if_moving(bot):\n",
    "    print(\"checking if moving\")\n",
    "    print(bot.pathfinder.isMoving())\n",
    "    while bot.pathfinder.isMoving():\n",
    "        print(\"moving\")\n",
    "        time.sleep(1)\n",
    "    return\n",
    "\n",
    "async def mine_block(bot, name, count=1):\n",
    "    RANGE_GOAL = 3\n",
    "    _mine_block_fail_count = 0\n",
    "\n",
    "    # return if name is not string\n",
    "    if not isinstance(name, str):\n",
    "        raise ValueError(f\"name for mine_block must be a string, got {name}\")\n",
    "    if not isinstance(count, int):\n",
    "        raise ValueError(f\"count for mine_block must be a number, got {count}\")\n",
    "    block_by_name = mcData.blocksByName[name]\n",
    "    if block_by_name is None:\n",
    "        raise ValueError(f\"No block named {name}\")\n",
    "    blocks = bot.findBlocks({\n",
    "        \"matching\": [block_by_name.id],\n",
    "        \"maxDistance\": 64,\n",
    "        \"count\": count,\n",
    "    })\n",
    "    if len(list(blocks)) == 0:\n",
    "        bot.chat(f\"No {name} nearby, please explore first\")\n",
    "        _mine_block_fail_count += 1\n",
    "        if _mine_block_fail_count > 10:\n",
    "            raise ValueError(\n",
    "                \"mine_block failed too many times, make sure you explore before calling mine_block\"\n",
    "            )\n",
    "        return\n",
    "    targets = []\n",
    "    for i in range(len(list(blocks))):\n",
    "        targets.append(bot.blockAt(blocks[i]))\n",
    "\n",
    "    for i, target in enumerate(targets):\n",
    "        print(i)\n",
    "        goalNear = pathfinder.goals.GoalNear(target.position.x, target.position.y, target.position.z, RANGE_GOAL, timeout=10000)\n",
    "        print(target.position.x, target.position.y, target.position.z)\n",
    "        try: \n",
    "            bot.pathfinder.goto(goalNear, timeout=10000)\n",
    "            bot.collectBlock.collect(target, timeout=10000)\n",
    "        except:\n",
    "            print(\"cannot reach!\")\n",
    "            goalY = pathfinder.goals.GoalY(target.position.y)\n",
    "            bot.pathfinder.goto(goalY)\n",
    "        print(f'{bot.pathfinder.isMoving()=}')      \n"
   ]
  },
  {
   "cell_type": "code",
   "execution_count": null,
   "metadata": {},
   "outputs": [
    {
     "ename": "NameError",
     "evalue": "name 'mine_block' is not defined",
     "output_type": "error",
     "traceback": [
      "\u001b[1;31m---------------------------------------------------------------------------\u001b[0m",
      "\u001b[1;31mNameError\u001b[0m                                 Traceback (most recent call last)",
      "Cell \u001b[1;32mIn[3], line 1\u001b[0m\n\u001b[1;32m----> 1\u001b[0m \u001b[38;5;28;01mawait\u001b[39;00m mine_block(bot, \u001b[38;5;124m\"\u001b[39m\u001b[38;5;124mgrass_block\u001b[39m\u001b[38;5;124m\"\u001b[39m, \u001b[38;5;241m10\u001b[39m)\n",
      "\u001b[1;31mNameError\u001b[0m: name 'mine_block' is not defined"
     ]
    }
   ],
   "source": [
    "await mine_block(bot, \"grass_block\", 10)"
   ]
  },
  {
   "cell_type": "code",
   "execution_count": null,
   "metadata": {},
   "outputs": [
    {
     "name": "stdout",
     "output_type": "stream",
     "text": [
      "0\n",
      "-8 75 -70\n",
      "[JSE] Mineflayer detected that you are using a deprecated event (physicTick)! Please use this event (physicsTick) instead.\n",
      "\n",
      "bot.pathfinder.isMoving()=False\n",
      "1\n",
      "-9 69 -72\n",
      "[JSE] Mineflayer detected that you are using a deprecated event (physicTick)! Please use this event (physicsTick) instead.\n",
      "\n",
      "bot.pathfinder.isMoving()=False\n",
      "2\n",
      "-9 70 -72\n",
      "bot.pathfinder.isMoving()=False\n"
     ]
    }
   ],
   "source": [
    "await mine_block(bot, \"oak_log\", 3)"
   ]
  },
  {
   "cell_type": "code",
   "execution_count": null,
   "metadata": {},
   "outputs": [],
   "source": [
    "async def craft_item(bot, name, count=1):\n",
    "    craftingTable = bot.findBlock({\n",
    "        'matching': mcData.blocksByName['crafting_table'].id\n",
    "    })\n",
    "    print(craftingTable)\n",
    "    \n",
    "    # Just need to get the proper recipe\n",
    "    recipe = mcData.recipes[mcData.itemsByName[name].id]\n",
    "\n",
    "    # Check if the recipe is too big to craft without a crafting table\n",
    "    try:\n",
    "        if len(list(recipe.inShape)) > 4 and not craftingTable:\n",
    "            bot.chat(\"Too big to craft without crafting table\")\n",
    "            return\n",
    "    except:\n",
    "        print(\"Recipe is shapeless. Able to continue!\")\n",
    "        \n",
    "    if recipe:\n",
    "        try:\n",
    "            bot.craft(recipe, count, craftingTable)\n",
    "            print(\"crafting\")\n",
    "            bot.chat(f\"Crafted {count} {name}\")\n",
    "        except:\n",
    "            print(\"cannot craft\")\n",
    "            return\n",
    "    else:\n",
    "        print(\"no recipe\")\n",
    "        return"
   ]
  },
  {
   "cell_type": "code",
   "execution_count": null,
   "metadata": {},
   "outputs": [
    {
     "name": "stdout",
     "output_type": "stream",
     "text": [
      "\u001b[1m Installing '/control_primitives/mineBlock.js' version 'latest'... This will only happen once. \u001b[0m\n",
      "\n",
      "[JSE] npm ERR! code EINVALIDPACKAGENAME\n",
      "\n",
      "[JSE] npm ERR! Invalid package name \"/control_primitives/mineBlock.js\" of package \"/control_primitives/mineBlock.js@latest\": name can only contain URL-friendly characters.\n",
      "\n",
      "[JSE] \n",
      "\n",
      "[JSE] npm ERR! A complete log of this run can be found in: C:\\Users\\g-pc\\AppData\\Local\\npm-cache\\_logs\\2024-01-31T02_22_38_927Z-debug-0.log\n",
      "\n",
      "☕ \u001b[1m\u001b[41m JavaScript Error \u001b[0m\u001b[0m Call to 'require' failed:\n",
      "\u001b[2m>\u001b[0m mblock \u001b[91m=\u001b[0m require\u001b[91m(\u001b[0m\u001b[94m'\u001b[0m/control_primitives/mineBlock.js\u001b[94m'\u001b[0m\u001b[91m)\u001b[0m\n",
      "  \u001b[2mat <module> (C:\\Users\\g-pc\\AppData\\Local\\Temp\\ipykernel_8216\\429911443.py:1)\u001b[0m\n",
      "\u001b[2m>\u001b[0m \n",
      "\n",
      "... across the bridge ...\n",
      "\n",
      "  \u001b[2mat addChunk (node:internal/streams/readable:559:12)\u001b[0m\n",
      "  \u001b[2mat Socket.emit (node:events:518:28)\u001b[0m\n",
      "  \u001b[2mat Socket.<anonymous> (c:\\Users\\g-pc\\AppData\\Local\\Programs\\Python\\Python310\\lib\\site-packages\\javascript\\js\\bridge.js:288:18)\u001b[0m\n",
      "  \u001b[2mat Bridge.onMessage (c:\\Users\\g-pc\\AppData\\Local\\Programs\\Python\\Python310\\lib\\site-packages\\javascript\\js\\bridge.js:231:25)\u001b[0m\n",
      "  \u001b[2mat Bridge.call (c:\\Users\\g-pc\\AppData\\Local\\Programs\\Python\\Python310\\lib\\site-packages\\javascript\\js\\bridge.js:136:42)\u001b[0m\n",
      "  \u001b[2mat Object.$require [as require] (c:\\Users\\g-pc\\AppData\\Local\\Programs\\Python\\Python310\\lib\\site-packages\\javascript\\js\\deps.js:128:22)\u001b[0m\n",
      "  \u001b[2mat PackageManager.install (c:\\Users\\g-pc\\AppData\\Local\\Programs\\Python\\Python310\\lib\\site-packages\\javascript\\js\\deps.js:78:12)\u001b[0m\n",
      "  \u001b[2mat Object.execSync (node:child_process:962:15)\u001b[0m\n",
      "  \u001b[2mat checkExecSyncError (node:child_process:890:11)\u001b[0m\n",
      "  \u001b[2mError: Command failed: npm install\u001b[0m\n",
      "\u001b[2m>\u001b[0m ^\n",
      "🌉 \u001b[1mError: Command failed: npm install\u001b[0m\n"
     ]
    }
   ],
   "source": []
  },
  {
   "cell_type": "code",
   "execution_count": null,
   "metadata": {},
   "outputs": [
    {
     "name": "stdout",
     "output_type": "stream",
     "text": [
      "☕ \u001b[1m\u001b[41m JavaScript Error \u001b[0m\u001b[0m Call to '' failed:\n",
      "\u001b[2m>\u001b[0m killMob\u001b[91m(\u001b[0mbot, \"chicken\"\u001b[91m)\u001b[0m\n",
      "  \u001b[2mat <module> (C:\\Users\\g-pc\\AppData\\Local\\Temp\\ipykernel_8216\\870129149.py:1)\u001b[0m\n",
      "\u001b[2m>\u001b[0m \n",
      "\n",
      "... across the bridge ...\n",
      "\n",
      "  \u001b[2mat Pipe.onStreamRead (node:internal/stream_base_commons:190:23)\u001b[0m\n",
      "  \u001b[2mat Readable.push (node:internal/streams/readable:390:5)\u001b[0m\n",
      "  \u001b[2mat readableAddChunkPushByteMode (node:internal/streams/readable:510:3)\u001b[0m\n",
      "  \u001b[2mat addChunk (node:internal/streams/readable:559:12)\u001b[0m\n",
      "  \u001b[2mat Socket.emit (node:events:518:28)\u001b[0m\n",
      "  \u001b[2mat Socket.<anonymous> (c:\\Users\\g-pc\\AppData\\Local\\Programs\\Python\\Python310\\lib\\site-packages\\javascript\\js\\bridge.js:288:18)\u001b[0m\n",
      "  \u001b[2mat Bridge.onMessage (c:\\Users\\g-pc\\AppData\\Local\\Programs\\Python\\Python310\\lib\\site-packages\\javascript\\js\\bridge.js:231:25)\u001b[0m\n",
      "  \u001b[2mat Bridge.call (c:\\Users\\g-pc\\AppData\\Local\\Programs\\Python\\Python310\\lib\\site-packages\\javascript\\js\\bridge.js:138:35)\u001b[0m\n",
      "  \u001b[2mTypeError: this.m[ffid] is not a function\u001b[0m\n",
      "\u001b[2m>\u001b[0m ^\n",
      "🌉 \u001b[1mTypeError: this.m[ffid] is not a function\u001b[0m\n"
     ]
    }
   ],
   "source": [
    "killMob(bot, \"chicken\")"
   ]
  }
 ],
 "metadata": {
  "kernelspec": {
   "display_name": "Python 3",
   "language": "python",
   "name": "python3"
  },
  "language_info": {
   "codemirror_mode": {
    "name": "ipython",
    "version": 3
   },
   "file_extension": ".py",
   "mimetype": "text/x-python",
   "name": "python",
   "nbconvert_exporter": "python",
   "pygments_lexer": "ipython3",
   "version": "3.10.11"
  }
 },
 "nbformat": 4,
 "nbformat_minor": 2
}
