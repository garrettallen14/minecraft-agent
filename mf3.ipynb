{
 "cells": [
  {
   "cell_type": "code",
   "execution_count": 1,
   "metadata": {},
   "outputs": [
    {
     "name": "stdout",
     "output_type": "stream",
     "text": [
      "[JSE] Mineflayer detected that you are using a deprecated event (physicTick)! Please use this event (physicsTick) instead.\n",
      "\n"
     ]
    }
   ],
   "source": [
    "from javascript import require, On, Once, AsyncTask, once, off, globalThis\n",
    "import time\n",
    "\n",
    "# Create the bot\n",
    "mineflayer = require('mineflayer')\n",
    "\n",
    "random_number = id([]) % 1000\n",
    "BOT_USERNAME = f'poo_bucket{random_number}'\n",
    "\n",
    "bot = mineflayer.createBot({ \n",
    "    'host': 'localhost',\n",
    "    'port': 22222,\n",
    "    'username': BOT_USERNAME, \n",
    "    'hideErrors': False \n",
    "})\n",
    "\n",
    "once(bot, 'login')\n",
    "bot.chat('I spawned')\n",
    "\n",
    "Vec3 = require('vec3').Vec3\n",
    "\n",
    "# Load plugins\n",
    "bot.loadPlugin(require('mineflayer-collectblock').plugin)\n",
    "\n",
    "bot.loadPlugin(require('minecrafthawkeye'))\n",
    "\n",
    "pathfinder = require('mineflayer-pathfinder')\n",
    "bot.loadPlugin(pathfinder.pathfinder)\n",
    "\n",
    "pvp = require('mineflayer-pvp').plugin\n",
    "bot.loadPlugin(pvp)\n",
    "\n",
    "mcData = require('minecraft-data')(bot.version)\n",
    "globalThis.mcData = mcData\n",
    "\n",
    "movements = pathfinder.Movements(bot, mcData)\n",
    "bot.pathfinder.setMovements(movements)\n",
    "globalThis.pathfinder = pathfinder\n",
    "\n",
    "mine = require('./control_primitives/mineBlock.js')\n",
    "place = require('./control_primitives/placeItemAnywhere.js')\n",
    "craft = require('./control_primitives/craftItem.js')\n",
    "kill = require('./control_primitives/killMob.js')\n",
    "\n",
    "# Global range goal for movement\n",
    "RANGE_GOAL = 1\n",
    "\n",
    "bot.removeAllListeners('chat')\n",
    "@On(bot, 'chat')\n",
    "def handleMsg(this, sender, message, *args):\n",
    "  if sender and (sender != BOT_USERNAME):\n",
    "    bot.chat('Hi, you said ' + message)\n",
    "    if 'come' in message:\n",
    "      player = bot.players[sender]\n",
    "      target = player.entity\n",
    "      if not target:\n",
    "        bot.chat(\"I don't see you !\")\n",
    "        return\n",
    "      pos = target.position\n",
    "      bot.pathfinder.setMovements(movements)\n",
    "      bot.pathfinder.setGoal(pathfinder.goals.GoalNear(pos.x, pos.y, pos.z, RANGE_GOAL))\n",
    "    if 'stop' in message:\n",
    "      off(bot, 'chat', handleMsg)"
   ]
  },
  {
   "cell_type": "code",
   "execution_count": 2,
   "metadata": {},
   "outputs": [
    {
     "name": "stdout",
     "output_type": "stream",
     "text": [
      "☕ \u001b[1m\u001b[41m JavaScript Error \u001b[0m\u001b[0m Call to 'mineBlock' failed:\n",
      "\u001b[2m>\u001b[0m mine.mineBlock\u001b[91m(\u001b[0mbot, \u001b[94m'\u001b[0mdirt\u001b[94m'\u001b[0m, 3, timeout\u001b[91m=\u001b[0m500000\u001b[91m)\u001b[0m\n",
      "  \u001b[2mat <module> (C:\\Users\\g-pc\\AppData\\Local\\Temp\\ipykernel_5624\\3336582215.py:1)\u001b[0m\n",
      "\u001b[2m>\u001b[0m \n",
      "\n",
      "... across the bridge ...\n",
      "\n",
      "  \u001b[2mat async Bridge.onMessage (c:\\Users\\g-pc\\AppData\\Local\\Programs\\Python\\Python310\\lib\\site-packages\\javascript\\js\\bridge.js:231:7)\u001b[0m\n",
      "  \u001b[2mat async Bridge.call (c:\\Users\\g-pc\\AppData\\Local\\Programs\\Python\\Python310\\lib\\site-packages\\javascript\\js\\bridge.js:136:17)\u001b[0m\n",
      "  \u001b[2mat process.processTicksAndRejections (node:internal/process/task_queues:95:5)\u001b[0m\n",
      "  \u001b[2mat Object.mineBlock (c:\\Users\\g-pc\\Documents\\GitHub\\minecraft-agent\\mineBlock2.js:55:34)\u001b[0m\n",
      "\u001b[2m>\u001b[0m \u001b[91mfor \u001b[0m\u001b[91m(\u001b[0m\u001b[91mconst \u001b[0mentity of bot.entities\u001b[91m)\u001b[0m \u001b[94m{\u001b[0m\n",
      "🌉 \u001b[1mTypeError: bot.entities is not iterable\u001b[0m\n"
     ]
    }
   ],
   "source": [
    "mine.mineBlock(bot, 'dirt', 3, timeout=500000)\n",
    "mine.mineBlock(bot, 'oak_log', 4, timeout=500000)\n",
    "\n",
    "print('Crafting table')\n",
    "craft.craftItem(bot, 'oak_planks', 4, timeout=500000)\n",
    "if bot.findBlocks(mcData.blocksByName.crafting_table.id, None, 3).length:\n",
    "    print('Found crafting table')\n",
    "else:\n",
    "    # Need to create and place a crafting table\n",
    "    craft.craftItem(bot, 'crafting_table', 1, timeout=500000)\n",
    "    while True:\n",
    "        try:\n",
    "            if place.placeItemAnywhere(bot, 'crafting_table', bot.entity.position, timeout=500000):\n",
    "                print('placed crafting table')\n",
    "\n",
    "                break\n",
    "        except:\n",
    "            # Move, then try again\n",
    "            bot.pathfinder.setGoal(pathfinder.goals.GoalNear(bot.entity.position.x + 3, bot.entity.position.y, bot.entity.position.z, RANGE_GOAL))\n",
    "            print('need to move to place crafting table')\n",
    "\n",
    "\n",
    "craft.craftItem(bot, 'stick', 1, timeout=500000)\n",
    "craft.craftItem(bot, 'wooden_pickaxe', 1, timeout=500000)\n",
    "\n",
    "print('mining stone')\n",
    "# See if he uses his pickaxe to mine stone\n",
    "mine.mineBlock(bot, 'stone', 10, timeout=500000)\n",
    "\n",
    "# Check how much stone he really got\n",
    "for i in bot.inventory.slots:\n",
    "    if i == None:\n",
    "        continue\n",
    "    print(i.name, i.count)\n",
    "\n",
    "# craft.craftItem(bot, 'stone_pickaxe', 1, timeout=500000)\n",
    "# craft.craftItem(bot, 'stone_axe', 1, timeout=500000)\n",
    "\n",
    "# # See if he uses his axe to mine wood\n",
    "# mine.mineBlock(bot, 'oak_planks', 10, timeout=500000)\n",
    "\n",
    "# # See if he uses his stone pickaxe to mine stone\n",
    "# mine.mineBlock(bot, 'stone', 10, timeout=500000)"
   ]
  },
  {
   "cell_type": "code",
   "execution_count": 5,
   "metadata": {},
   "outputs": [
    {
     "name": "stdout",
     "output_type": "stream",
     "text": [
      "☕ \u001b[1m\u001b[41m JavaScript Error \u001b[0m\u001b[0m Call to 'mineBlock' failed:\n",
      "\u001b[2m>\u001b[0m mine.mineBlock\u001b[91m(\u001b[0mbot, \u001b[94m'\u001b[0mstone\u001b[94m'\u001b[0m, 10, timeout\u001b[91m=\u001b[0m500000\u001b[91m)\u001b[0m\n",
      "  \u001b[2mat <module> (C:\\Users\\g-pc\\AppData\\Local\\Temp\\ipykernel_15932\\3537063579.py:1)\u001b[0m\n",
      "\u001b[2m>\u001b[0m \n",
      "\n",
      "... across the bridge ...\n",
      "\n",
      "  \u001b[2mat process.processTimers (node:internal/timers:514:7)\u001b[0m\n",
      "  \u001b[2mat listOnTimeout (node:internal/timers:573:17)\u001b[0m\n",
      "  \u001b[2mat Timeout.doPhysics [as _onTimeout] (c:\\Users\\g-pc\\AppData\\Local\\Programs\\Python\\Python310\\lib\\site-packages\\javascript\\js\\node_modules\\mineflayer\\lib\\plugins\\physics.js:70:7)\u001b[0m\n",
      "  \u001b[2mat tickPhysics (c:\\Users\\g-pc\\AppData\\Local\\Programs\\Python\\Python310\\lib\\site-packages\\javascript\\js\\node_modules\\mineflayer\\lib\\plugins\\physics.js:81:11)\u001b[0m\n",
      "  \u001b[2mat EventEmitter.emit (node:events:518:28)\u001b[0m\n",
      "  \u001b[2mat EventEmitter.monitorMovement (c:\\Users\\g-pc\\AppData\\Local\\Programs\\Python\\Python310\\lib\\site-packages\\javascript\\js\\node_modules\\mineflayer-pathfinder\\index.js:446:11)\u001b[0m\n",
      "  \u001b[2mat EventEmitter.emit (node:events:518:28)\u001b[0m\n",
      "  \u001b[2mat EventEmitter.noPathListener (c:\\Users\\g-pc\\AppData\\Local\\Programs\\Python\\Python310\\lib\\site-packages\\javascript\\js\\node_modules\\mineflayer-pathfinder\\lib\\goto.js:28:17)\u001b[0m\n",
      "  \u001b[2mat error (c:\\Users\\g-pc\\AppData\\Local\\Programs\\Python\\Python310\\lib\\site-packages\\javascript\\js\\node_modules\\mineflayer-pathfinder\\lib\\goto.js:2:15)\u001b[0m\n",
      "\u001b[2m>\u001b[0m \u001b[91mconst \u001b[0merr \u001b[91m=\u001b[0m new Error\u001b[91m(\u001b[0mmessage\u001b[91m)\u001b[0m\n",
      "🌉 \u001b[1mTimeout: Took to long to decide path to goal!\u001b[0m\n"
     ]
    }
   ],
   "source": [
    "mine.mineBlock(bot, 'stone', 10, timeout=500000)"
   ]
  },
  {
   "cell_type": "code",
   "execution_count": 6,
   "metadata": {},
   "outputs": [
    {
     "name": "stdout",
     "output_type": "stream",
     "text": [
      "dirt 7\n",
      "wooden_pickaxe 1\n",
      "oak_planks 7\n",
      "stick 2\n",
      "cobblestone 12\n"
     ]
    }
   ],
   "source": [
    "for i in bot.inventory.slots:\n",
    "    if i == None:\n",
    "        continue\n",
    "    print(i.name, i.count)"
   ]
  },
  {
   "cell_type": "code",
   "execution_count": null,
   "metadata": {},
   "outputs": [],
   "source": []
  }
 ],
 "metadata": {
  "kernelspec": {
   "display_name": "Python 3",
   "language": "python",
   "name": "python3"
  },
  "language_info": {
   "codemirror_mode": {
    "name": "ipython",
    "version": 3
   },
   "file_extension": ".py",
   "mimetype": "text/x-python",
   "name": "python",
   "nbconvert_exporter": "python",
   "pygments_lexer": "ipython3",
   "version": "3.10.11"
  }
 },
 "nbformat": 4,
 "nbformat_minor": 2
}
