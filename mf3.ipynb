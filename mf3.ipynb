{
 "cells": [
  {
   "cell_type": "code",
   "execution_count": 1,
   "metadata": {},
   "outputs": [
    {
     "name": "stdout",
     "output_type": "stream",
     "text": [
      "[JSE] Mineflayer detected that you are using a deprecated event (physicTick)! Please use this event (physicsTick) instead.\n",
      "\n"
     ]
    }
   ],
   "source": [
    "from javascript import require, On, Once, AsyncTask, once, off, globalThis\n",
    "import time\n",
    "\n",
    "# Create the bot\n",
    "mineflayer = require('mineflayer')\n",
    "\n",
    "# random_number = id([]) % 1000\n",
    "random_number = 176\n",
    "BOT_USERNAME = f'poo_bucket{random_number}'\n",
    "\n",
    "bot = mineflayer.createBot({ \n",
    "    'host': 'localhost',\n",
    "    'port': 22222,\n",
    "    'username': BOT_USERNAME, \n",
    "    'hideErrors': False \n",
    "})\n",
    "\n",
    "once(bot, 'login')\n",
    "bot.chat('I spawned')\n",
    "\n",
    "Vec3 = require('vec3').Vec3\n",
    "\n",
    "# Load plugins\n",
    "bot.loadPlugin(require('mineflayer-collectblock').plugin)\n",
    "\n",
    "bot.loadPlugin(require('minecrafthawkeye'))\n",
    "\n",
    "pathfinder = require('mineflayer-pathfinder')\n",
    "bot.loadPlugin(pathfinder.pathfinder)\n",
    "\n",
    "pvp = require('mineflayer-pvp').plugin\n",
    "bot.loadPlugin(pvp)\n",
    "\n",
    "mcData = require('minecraft-data')(bot.version)\n",
    "globalThis.mcData = mcData\n",
    "\n",
    "movements = pathfinder.Movements(bot, mcData)\n",
    "bot.pathfinder.setMovements(movements)\n",
    "globalThis.pathfinder = pathfinder\n",
    "\n",
    "mine = require('./control_primitives/mineBlock.js')\n",
    "place = require('./control_primitives/placeItem.js')\n",
    "craft = require('./control_primitives/craftItem.js')\n",
    "kill = require('./control_primitives/killMob.js')\n",
    "\n",
    "# Global range goal for movement\n",
    "RANGE_GOAL = 1\n",
    "\n",
    "bot.removeAllListeners('chat')\n",
    "@On(bot, 'chat')\n",
    "def handleMsg(this, sender, message, *args):\n",
    "  if sender and (sender != BOT_USERNAME):\n",
    "    bot.chat('Hi, you said ' + message)\n",
    "    if 'come' in message:\n",
    "      player = bot.players[sender]\n",
    "      target = player.entity\n",
    "      if not target:\n",
    "        bot.chat(\"I don't see you !\")\n",
    "        return\n",
    "      pos = target.position\n",
    "      bot.pathfinder.setMovements(movements)\n",
    "      bot.pathfinder.setGoal(pathfinder.goals.GoalNear(pos.x, pos.y, pos.z, RANGE_GOAL))\n",
    "    if 'stop' in message:\n",
    "      off(bot, 'chat', handleMsg)"
   ]
  },
  {
   "cell_type": "code",
   "execution_count": 18,
   "metadata": {},
   "outputs": [],
   "source": [
    "kill.killMob(bot, 'skeleton', timeout=500000)"
   ]
  },
  {
   "cell_type": "code",
   "execution_count": 3,
   "metadata": {},
   "outputs": [],
   "source": [
    "craft.craftItem(bot, 'stick', 2, timeout=500000)\n",
    "craft.craftItem(bot, 'wooden_pickaxe', 2, timeout=500000)"
   ]
  },
  {
   "cell_type": "code",
   "execution_count": 17,
   "metadata": {},
   "outputs": [
    {
     "name": "stdout",
     "output_type": "stream",
     "text": [
      "\u001b[33m1\u001b[39m\n",
      "\n"
     ]
    }
   ],
   "source": [
    "mine.mineBlock(bot, 'oak_log', 1, timeout=500000)"
   ]
  },
  {
   "cell_type": "code",
   "execution_count": 16,
   "metadata": {},
   "outputs": [],
   "source": [
    "craft.craftItem(bot, 'stone_axe', 1, timeout=500000)"
   ]
  },
  {
   "cell_type": "code",
   "execution_count": 7,
   "metadata": {},
   "outputs": [
    {
     "name": "stdout",
     "output_type": "stream",
     "text": [
      "Failed to mine block\n"
     ]
    }
   ],
   "source": [
    "try:\n",
    "except:\n",
    "    print('Failed to mine block')"
   ]
  },
  {
   "cell_type": "code",
   "execution_count": 3,
   "metadata": {},
   "outputs": [
    {
     "name": "stdout",
     "output_type": "stream",
     "text": [
      "\u001b[33m3\u001b[39m\n",
      "\n",
      "Crafting table\n"
     ]
    },
    {
     "ename": "",
     "evalue": "",
     "output_type": "error",
     "traceback": [
      "\u001b[1;31mThe Kernel crashed while executing code in the the current cell or a previous cell. Please review the code in the cell(s) to identify a possible cause of the failure. Click <a href='https://aka.ms/vscodeJupyterKernelCrash'>here</a> for more info. View Jupyter <a href='command:jupyter.viewOutput'>log</a> for further details."
     ]
    }
   ],
   "source": [
    "mine.mineBlock(bot, 'dirt', 3, timeout=500000)\n",
    "mine.mineBlock(bot, 'oak_log', 4, timeout=500000)\n",
    "\n",
    "print('Crafting table')\n",
    "craft.craftItem(bot, 'oak_planks', 4, timeout=500000)\n",
    "if bot.findBlocks(mcData.blocksByName.crafting_table.id, None, 3).length:\n",
    "    print('Found crafting table')\n",
    "else:\n",
    "    # Need to create and place a crafting table\n",
    "    craft.craftItem(bot, 'crafting_table', 1, timeout=500000)\n",
    "    while True:\n",
    "        try:\n",
    "            if place.placeItemAnywhere(bot, 'crafting_table', bot.entity.position, timeout=500000):\n",
    "                print('placed crafting table')\n",
    "\n",
    "                break\n",
    "        except:\n",
    "            # Move, then try again\n",
    "            bot.pathfinder.setGoal(pathfinder.goals.GoalNear(bot.entity.position.x + 3, bot.entity.position.y, bot.entity.position.z, RANGE_GOAL))\n",
    "            print('need to move to place crafting table')\n",
    "\n",
    "\n",
    "craft.craftItem(bot, 'stick', 1, timeout=500000)\n",
    "craft.craftItem(bot, 'wooden_pickaxe', 1, timeout=500000)\n",
    "\n",
    "print('mining stone')\n",
    "# See if he uses his pickaxe to mine stone\n",
    "mine.mineBlock(bot, 'stone', 10, timeout=500000)\n",
    "\n",
    "# Check how much stone he really got\n",
    "for i in bot.inventory.slots:\n",
    "    if i == None:\n",
    "        continue\n",
    "    print(i.name, i.count)\n",
    "\n",
    "# craft.craftItem(bot, 'stone_pickaxe', 1, timeout=500000)\n",
    "# craft.craftItem(bot, 'stone_axe', 1, timeout=500000)\n",
    "\n",
    "# # See if he uses his axe to mine wood\n",
    "# mine.mineBlock(bot, 'oak_planks', 10, timeout=500000)\n",
    "\n",
    "# # See if he uses his stone pickaxe to mine stone\n",
    "# mine.mineBlock(bot, 'stone', 10, timeout=500000)"
   ]
  },
  {
   "cell_type": "code",
   "execution_count": 3,
   "metadata": {},
   "outputs": [
    {
     "name": "stdout",
     "output_type": "stream",
     "text": [
      "\u001b[33m10\u001b[39m\n",
      "\n"
     ]
    },
    {
     "ename": "",
     "evalue": "",
     "output_type": "error",
     "traceback": [
      "\u001b[1;31mThe Kernel crashed while executing code in the the current cell or a previous cell. Please review the code in the cell(s) to identify a possible cause of the failure. Click <a href='https://aka.ms/vscodeJupyterKernelCrash'>here</a> for more info. View Jupyter <a href='command:jupyter.viewOutput'>log</a> for further details."
     ]
    }
   ],
   "source": [
    "mine.mineBlock(bot, 'stone', 10, timeout=500000)"
   ]
  },
  {
   "cell_type": "code",
   "execution_count": null,
   "metadata": {},
   "outputs": [],
   "source": [
    "for i in bot.inventory.slots:\n",
    "    if i == None:\n",
    "        continue\n",
    "    print(i.name, i.count)"
   ]
  },
  {
   "cell_type": "code",
   "execution_count": null,
   "metadata": {},
   "outputs": [],
   "source": []
  }
 ],
 "metadata": {
  "kernelspec": {
   "display_name": "Python 3",
   "language": "python",
   "name": "python3"
  },
  "language_info": {
   "codemirror_mode": {
    "name": "ipython",
    "version": 3
   },
   "file_extension": ".py",
   "mimetype": "text/x-python",
   "name": "python",
   "nbconvert_exporter": "python",
   "pygments_lexer": "ipython3",
   "version": "3.10.11"
  }
 },
 "nbformat": 4,
 "nbformat_minor": 2
}
