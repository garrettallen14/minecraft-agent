{
 "cells": [
  {
   "cell_type": "code",
   "execution_count": 1,
   "metadata": {},
   "outputs": [],
   "source": [
    "from javascript import require, On, Once, AsyncTask, once, off, globalThis\n",
    "import json\n",
    "import logging\n",
    "import time\n",
    "\n",
    "import building\n",
    "\n",
    "MINECRAFT_VERSION = '1.20.2'\n",
    "\n",
    "craft = require('./control_primitives/craftItem.js')\n",
    "explore = require('./control_primitives/exploreUntil.js')\n",
    "globalThis.explore = explore\n",
    "move = require('./control_primitives/goToPosition.js')\n",
    "kill = require('./control_primitives/killMob.js')\n",
    "collectPosition = require('./control_primitives/mineBlockPosition.js')\n",
    "collectType = require('./control_primitives/mineBlockType.js')\n",
    "pickupDroppedItem = require('./control_primitives/pickupDroppedItem.js')\n",
    "place = require('./control_primitives/placeItem.js')\n",
    "shoot = require('./control_primitives/shoot.js')\n",
    "smelt = require('./control_primitives/smeltItem.js')\n",
    "chest = require('./control_primitives/useChest.js')\n",
    "\n",
    "Vec3 = require('vec3').Vec3\n",
    "mineflayer = require('mineflayer')\n",
    "pathfinder = require('mineflayer-pathfinder')\n",
    "pvp = require('mineflayer-pvp').plugin\n",
    "mcData = require('minecraft-data')(MINECRAFT_VERSION)\n",
    "globalThis.mcData = mcData\n",
    "armorManager = require(\"mineflayer-armor-manager\")\n",
    "autoeat = require('mineflayer-auto-eat').plugin\n",
    "collectblock = require('mineflayer-collectblock').plugin\n",
    "hawkeye = require('minecrafthawkeye')\n",
    "toolPlugin = require('mineflayer-tool').plugin\n",
    "# mineflayerViewer = require('prismarine-viewer')\n",
    "\n",
    "RANGE_GOAL = 1\n",
    "\n",
    "# Load bot\n",
    "def load_bot(username=None):\n",
    "  # Create bot\n",
    "  if not username:\n",
    "    random_number = 176\n",
    "    username = f'poo_bucket{random_number}'\n",
    "\n",
    "  bot = mineflayer.createBot({ \n",
    "      'host': 'localhost',\n",
    "      'port': 22222,\n",
    "      'username': username, \n",
    "      'hideErrors': False \n",
    "  })\n",
    "\n",
    "  once(bot, 'login')\n",
    "  bot.chat('I spawned')\n",
    "  #   mineflayerViewer(bot, { 'port': 3000, 'firstPerson': True })\n",
    "\n",
    "  # Load plugins\n",
    "  bot.loadPlugin(collectblock)\n",
    "  bot.loadPlugin(hawkeye)\n",
    "  bot.loadPlugin(pathfinder.pathfinder)\n",
    "  bot.loadPlugin(pvp)\n",
    "  bot.loadPlugin(toolPlugin)\n",
    "\n",
    "  globalThis.mcData = mcData\n",
    "  globalThis.pathfinder = pathfinder\n",
    "  movements = pathfinder.Movements(bot, mcData)\n",
    "  bot.pathfinder.setMovements(movements)\n",
    "\n",
    "  # Auto armor\n",
    "  bot.loadPlugin(armorManager)\n",
    "  bot.armorManager.equipAll()\n",
    "\n",
    "  # Auto eat\n",
    "  bot.loadPlugin(autoeat)\n",
    "  bot.autoEat.options.priority = 'foodPoints'\n",
    "  bot.autoEat.options.startAt = 14\n",
    "  bot.autoEat.options.bannedFood.push('golden_apple')\n",
    "  \n",
    "  return bot, movements"
   ]
  },
  {
   "cell_type": "code",
   "execution_count": 2,
   "metadata": {},
   "outputs": [
    {
     "name": "stdout",
     "output_type": "stream",
     "text": [
      "[JSE] Mineflayer detected that you are using a deprecated event (physicTick)! Please use this event (physicsTick) instead.\n",
      "\n"
     ]
    }
   ],
   "source": [
    "bot, movements = load_bot('poo_bucket176')\n",
    "globalThis.bot = bot"
   ]
  },
  {
   "cell_type": "code",
   "execution_count": 3,
   "metadata": {},
   "outputs": [
    {
     "name": "stderr",
     "output_type": "stream",
     "text": [
      "c:\\Users\\g-pc\\AppData\\Local\\Programs\\Python\\Python310\\lib\\site-packages\\langchain_core\\_api\\deprecation.py:117: LangChainDeprecationWarning: The class `langchain_community.embeddings.openai.OpenAIEmbeddings` was deprecated in langchain-community 0.1.0 and will be removed in 0.2.0. An updated version of the class exists in the langchain-openai package and should be used instead. To use it run `pip install -U langchain-openai` and import as `from langchain_openai import OpenAIEmbeddings`.\n",
      "  warn_deprecated(\n"
     ]
    }
   ],
   "source": [
    "import memory\n",
    "import perception\n",
    "import env_info\n",
    "# import action\n",
    "\n",
    "percept = perception.Module()\n",
    "mem = memory.Module()\n",
    "# act = action.Module()"
   ]
  },
  {
   "cell_type": "code",
   "execution_count": 4,
   "metadata": {},
   "outputs": [],
   "source": [
    "from javascript import require, globalThis\n",
    "findAndParseJsonLikeText = require('json-like-parse')"
   ]
  },
  {
   "cell_type": "code",
   "execution_count": 5,
   "metadata": {},
   "outputs": [],
   "source": [
    "import action_llms\n",
    "\n",
    "llms = action_llms.get_llms()\n",
    "bot_functions = json.loads(open('bot_functions.json').read())\n",
    "\n",
    "previous_action_outcomes = []\n",
    "current_goal_progress = ''"
   ]
  },
  {
   "cell_type": "code",
   "execution_count": 6,
   "metadata": {},
   "outputs": [
    {
     "name": "stdout",
     "output_type": "stream",
     "text": [
      "response=\"self.askLLM('What should my new goal be after collecting wood?')\"\n",
      "[['Attempt Number: 1', \"self.askLLM('What should my new goal be after collecting wood?'): After collecting wood, your next goal could be to build a shelter to protect yourself from mobs and the elements. You could also focus on gathering resources such as stone, coal, and iron to craft better tools and armor. Additionally, you could start exploring the world to find new biomes, villages, and dungeons to discover and conquer.\"]]\n",
      "response=\"self.findBlockType(bot, 'stone', 20)\"\n",
      "[['Attempt Number: 1', \"self.askLLM('What should my new goal be after collecting wood?'): After collecting wood, your next goal could be to build a shelter to protect yourself from mobs and the elements. You could also focus on gathering resources such as stone, coal, and iron to craft better tools and armor. Additionally, you could start exploring the world to find new biomes, villages, and dungeons to discover and conquer.\"], ['Attempt Number: 2', \"self.findBlockType(bot, 'stone', 20) was found in the world at: Vec3 { \\x1b[94mx\\x1b[39m: \\x1b[33m34\\x1b[39m, \\x1b[94my\\x1b[39m: \\x1b[33m64\\x1b[39m, \\x1b[94mz\\x1b[39m: \\x1b[33m-32\\x1b[39m }!\"]]\n"
     ]
    },
    {
     "name": "stderr",
     "output_type": "stream",
     "text": [
      "Warning: model not found. Using cl100k_base encoding.\n"
     ]
    },
    {
     "name": "stdout",
     "output_type": "stream",
     "text": [
      "response='COMPLETED: After collecting wood, the new goal should be to utilize the wood to craft essential tools like a pickaxe, axe, and shovel, set a goal to build a shelter or house using the wood as the primary building material, and identify the need for additional resources such as stone, coal, and iron to craft advanced tools and items.'\n",
      "Completed task: : After collecting wood, the new goal should be to utilize the wood to craft essential tools like a pickaxe, axe, and shovel, set a goal to build a shelter or house using the wood as the primary building material, and identify the need for additional resources such as stone, coal, and iron to craft advanced tools and items.\n"
     ]
    },
    {
     "data": {
      "text/plain": [
       "'COMPLETED: After collecting wood, the new goal should be to utilize the wood to craft essential tools like a pickaxe, axe, and shovel, set a goal to build a shelter or house using the wood as the primary building material, and identify the need for additional resources such as stone, coal, and iron to craft advanced tools and items.'"
      ]
     },
     "execution_count": 6,
     "metadata": {},
     "output_type": "execute_result"
    }
   ],
   "source": [
    "goal = percept.perceive(bot, 'I have just successfully collected some wood. What should my new Goal be?')\n",
    "# goal = percept.perceive(bot, 'What is the location of the crafting table near me?')\n",
    "\n",
    "# goal='COMPLETED: After evaluating the potential goals visible in the surrounding area and considering the resources and challenges present, my new goal in Minecraft will be to focus on resource gathering. Specifically, I will prioritize gathering wood from the nearby trees to craft essential tools, build structures, and create torches for illumination. This goal aligns with the immediate environment and will set a solid foundation for further exploration and survival preparation.'\n",
    "goal"
   ]
  },
  {
   "cell_type": "code",
   "execution_count": 7,
   "metadata": {},
   "outputs": [
    {
     "name": "stdout",
     "output_type": "stream",
     "text": [
      "perception_query='Perception Module, based on the current environment and my inventory, what is the closest source of stone, coal, or iron that I can gather to craft advanced tools and items to progress towards my goal of building a shelter or house?'\n",
      "response=\"self.findBlockType(bot, 'stone', 32)\"\n",
      "[['Attempt Number: 1', \"self.findBlockType(bot, 'stone', 32) was found in the world at: Vec3 { \\x1b[94mx\\x1b[39m: \\x1b[33m34\\x1b[39m, \\x1b[94my\\x1b[39m: \\x1b[33m64\\x1b[39m, \\x1b[94mz\\x1b[39m: \\x1b[33m-32\\x1b[39m }!\"]]\n",
      "response=\"self.findBlockType(bot, 'iron_ore', 32) # Search for nearby iron ore blocks.\"\n",
      "[['Attempt Number: 1', \"self.findBlockType(bot, 'stone', 32) was found in the world at: Vec3 { \\x1b[94mx\\x1b[39m: \\x1b[33m34\\x1b[39m, \\x1b[94my\\x1b[39m: \\x1b[33m64\\x1b[39m, \\x1b[94mz\\x1b[39m: \\x1b[33m-32\\x1b[39m }!\"], ['Attempt Number: 2', \"self.findBlockType(bot, 'iron_ore', 32) # Search for nearby iron ore blocks. was found in the world at: Vec3 { \\x1b[94mx\\x1b[39m: \\x1b[33m26\\x1b[39m, \\x1b[94my\\x1b[39m: \\x1b[33m65\\x1b[39m, \\x1b[94mz\\x1b[39m: \\x1b[33m-32\\x1b[39m }!\"]]\n"
     ]
    },
    {
     "name": "stderr",
     "output_type": "stream",
     "text": [
      "Warning: model not found. Using cl100k_base encoding.\n"
     ]
    },
    {
     "name": "stdout",
     "output_type": "stream",
     "text": [
      "response='COMPLETED: The closest sources of stone and iron have been located. Stone is at Vec3(34, 64, -32) and iron ore is at Vec3(26, 65, -32). Now, prioritize gathering iron for crafting advanced tools.'\n",
      "Completed task: : The closest sources of stone and iron have been located. Stone is at Vec3(34, 64, -32) and iron ore is at Vec3(26, 65, -32). Now, prioritize gathering iron for crafting advanced tools.\n",
      "new_action='collectPosition.mineBlockPosition(bot, Vec3(26, 65, -32), timeout=500000) # will mine the iron ore at position (26, 65, -32)'\n"
     ]
    }
   ],
   "source": [
    "while True:\n",
    "    \n",
    "    perception_query = llms['generate_perception_query'].invoke({\n",
    "        'goal': goal,\n",
    "        'current_environment': env_info.getPromptInfo(bot),\n",
    "        'previous_action_outcomes': previous_action_outcomes,\n",
    "        'current_goal_progress': current_goal_progress\n",
    "    }).content\n",
    "\n",
    "    print(f'{perception_query=}')\n",
    "\n",
    "    answer = percept.perceive(bot, perception_query)\n",
    "\n",
    "    while True:\n",
    "        try:\n",
    "            new_action = llms['generate_next_best_action'].invoke({\n",
    "                'goal': goal,\n",
    "                'current_environment': env_info.getPromptInfo(bot),\n",
    "                'previous_action_outcomes': previous_action_outcomes,\n",
    "                'current_goal_progress': current_goal_progress,\n",
    "                'question': perception_query,\n",
    "                'answer': answer,\n",
    "                'bot_functions': bot_functions\n",
    "            }).content\n",
    "\n",
    "            print(f'{new_action=}')\n",
    "\n",
    "\n",
    "            # Get before\n",
    "            previous_environment = env_info.getPromptInfo(bot)\n",
    "            # Execute action\n",
    "            # Note, change this to return a thing which we can add into the current environment type beat\n",
    "            # ie change all control primitives to return a string of accomplishments\n",
    "            exec(new_action)\n",
    "            break\n",
    "        except:\n",
    "            previous_action_outcomes.append([f'Action Number {len(previous_action_outcomes)}', new_action, 'Outcome:', 'Failed to execute action due to improper syntax! Do not make this syntax mistake again.'])\n",
    "\n",
    "    changes_json = llms['summarize_environment_changes'].invoke({\n",
    "        'goal': goal,\n",
    "        'action': new_action,\n",
    "        'previous_environment': previous_environment,\n",
    "        'current_environment': env_info.getPromptInfo(bot),\n",
    "        'previous_goal_progress': current_goal_progress\n",
    "    }).content\n",
    "\n",
    "    changes = findAndParseJsonLikeText(changes_json)[0]\n",
    "\n",
    "    print(f'{changes=}')\n",
    "\n",
    "    current_goal_progress = changes['new_goal_progress']\n",
    "    environment_changes = changes['environment_changes']\n",
    "    previous_action_outcomes.append([f'Action Number {len(previous_action_outcomes)}', new_action, 'Outcome:', environment_changes])\n",
    "\n",
    "    # Try to gather any new memories\n",
    "    new_memories = llms['gather_new_memories'].invoke({\n",
    "        'current_environment': env_info.getPromptInfo(bot),\n",
    "        'action': new_action,\n",
    "        'environment_changes': environment_changes,\n",
    "        'new_goal_progress': current_goal_progress\n",
    "    }).content\n",
    "\n",
    "    print(f'{new_memories=}')\n",
    "\n",
    "    new_memories = findAndParseJsonLikeText(new_memories)[0]\n",
    "    try:\n",
    "        collection_name, memory = new_memories['memory1'].split(': ')[0], new_memories['memory1'].split(': ')[1]\n",
    "        mem.store_memory(memory, collection_name)\n",
    "        collection_name, memory = new_memories['memory2'].split(': ')[0], new_memories['memory2'].split(': ')[1]\n",
    "        mem.store_memory(memory, collection_name)\n",
    "    except:\n",
    "        pass"
   ]
  },
  {
   "cell_type": "code",
   "execution_count": null,
   "metadata": {},
   "outputs": [],
   "source": []
  }
 ],
 "metadata": {
  "kernelspec": {
   "display_name": "Python 3",
   "language": "python",
   "name": "python3"
  },
  "language_info": {
   "codemirror_mode": {
    "name": "ipython",
    "version": 3
   },
   "file_extension": ".py",
   "mimetype": "text/x-python",
   "name": "python",
   "nbconvert_exporter": "python",
   "pygments_lexer": "ipython3",
   "version": "3.10.11"
  }
 },
 "nbformat": 4,
 "nbformat_minor": 2
}
